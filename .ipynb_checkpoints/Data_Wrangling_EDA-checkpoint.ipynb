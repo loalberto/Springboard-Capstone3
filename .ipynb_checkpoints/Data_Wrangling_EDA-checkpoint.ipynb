{
 "cells": [
  {
   "cell_type": "code",
   "execution_count": 1,
   "metadata": {
    "scrolled": true
   },
   "outputs": [],
   "source": [
    "import matplotlib.pyplot as plt\n",
    "import matplotlib.image as mpimg\n",
    "import seaborn as sns\n",
    "from PIL import Image\n",
    "import glob\n",
    "import os\n",
    "import pandas as pd\n",
    "import multiprocessing \n",
    "from tensorflow.keras.preprocessing import image\n",
    "import numpy as np\n",
    "from skimage.filters import threshold_otsu\n",
    "from skimage.filters import threshold_local\n",
    "from skimage.filters import gaussian\n",
    "from skimage.transform import resize\n",
    "from skimage.filters import sobel, roberts\n",
    "from skimage import io, color\n",
    "from skimage.restoration import denoise_bilateral\n",
    "from skimage.segmentation import slic\n",
    "from skimage.color import label2rgb\n",
    "from skimage.feature import canny\n",
    "from skimage.segmentation import slic\n",
    "from skimage.color import label2rgb\n",
    "from skimage import data\n",
    "import scipy.ndimage as ndi\n",
    "import gc"
   ]
  },
  {
   "cell_type": "code",
   "execution_count": 2,
   "metadata": {
    "scrolled": true
   },
   "outputs": [],
   "source": [
    "def get_file_names(s):\n",
    "    # retrieves all the filenames in a list of strings\n",
    "    path = './image_data/PetImages/{}'.format(s)\n",
    "    vals = []\n",
    "    for root, dirs, files in os.walk(path):\n",
    "        for filename in files:\n",
    "            if os.path.getsize(path + '/'+ filename) == 0:\n",
    "                continue\n",
    "            vals.append(filename)\n",
    "    return sorted(vals)"
   ]
  },
  {
   "cell_type": "code",
   "execution_count": 3,
   "metadata": {
    "scrolled": true
   },
   "outputs": [],
   "source": [
    "def display_img(s, filename):\n",
    "    # Will display any image with the string and filepath provided\n",
    "    path = './image_data/PetImages/{}/{}'.format(s, filename)\n",
    "    plt.imshow(mpimg.imread(path))\n",
    "    plt.show()"
   ]
  },
  {
   "cell_type": "code",
   "execution_count": 4,
   "metadata": {
    "scrolled": true
   },
   "outputs": [],
   "source": [
    "cat_filenames = get_file_names('cat')\n",
    "dogtrain_filenames = get_file_names('dogs_train')\n",
    "dogtest_filenames = get_file_names('dogs_test')"
   ]
  },
  {
   "cell_type": "code",
   "execution_count": 5,
   "metadata": {
    "scrolled": false
   },
   "outputs": [],
   "source": [
    "cat_filenames = cat_filenames[1: len(cat_filenames)]\n",
    "cat_filenames = cat_filenames[:len(cat_filenames) - 1]"
   ]
  },
  {
   "cell_type": "code",
   "execution_count": 6,
   "metadata": {
    "scrolled": true
   },
   "outputs": [
    {
     "ename": "IndexError",
     "evalue": "list index out of range",
     "output_type": "error",
     "traceback": [
      "\u001b[0;31m---------------------------------------------------------------------------\u001b[0m",
      "\u001b[0;31mIndexError\u001b[0m                                Traceback (most recent call last)",
      "\u001b[0;32m<ipython-input-6-0b8c0349731f>\u001b[0m in \u001b[0;36m<module>\u001b[0;34m\u001b[0m\n\u001b[1;32m      1\u001b[0m \u001b[0;31m# Passing the name cat and the name of the file will display thte image\u001b[0m\u001b[0;34m\u001b[0m\u001b[0;34m\u001b[0m\u001b[0;34m\u001b[0m\u001b[0m\n\u001b[0;32m----> 2\u001b[0;31m \u001b[0mdisplay_img\u001b[0m\u001b[0;34m(\u001b[0m\u001b[0;34m'cat'\u001b[0m\u001b[0;34m,\u001b[0m \u001b[0mcat_filenames\u001b[0m\u001b[0;34m[\u001b[0m\u001b[0;36m1\u001b[0m\u001b[0;34m]\u001b[0m\u001b[0;34m)\u001b[0m\u001b[0;34m\u001b[0m\u001b[0;34m\u001b[0m\u001b[0m\n\u001b[0m",
      "\u001b[0;31mIndexError\u001b[0m: list index out of range"
     ]
    }
   ],
   "source": [
    "# Passing the name cat and the name of the file will display thte image\n",
    "display_img('cat', cat_filenames[1])"
   ]
  },
  {
   "cell_type": "markdown",
   "metadata": {},
   "source": [
    "Every image has either a cat or a dog in them. There are different variations of cats and dogs. Different angles, lighting, and other different features."
   ]
  },
  {
   "cell_type": "code",
   "execution_count": null,
   "metadata": {
    "scrolled": true
   },
   "outputs": [],
   "source": [
    "print('The number of cat images are: {}'.format(len(cat_filenames)))"
   ]
  },
  {
   "cell_type": "code",
   "execution_count": null,
   "metadata": {},
   "outputs": [],
   "source": [
    "def display_image_np(np_array):\n",
    "    # The functiton takes in an np_array to display the image\n",
    "    # This will display the image in grayscale\n",
    "    plt.imshow(np_array, vmin=0, vmax=255, cmap='Greys_r')\n",
    "    plt.axis('off')\n",
    "    plt.grid(True)\n",
    "    plt.show()\n",
    "    plt.show()"
   ]
  },
  {
   "cell_type": "code",
   "execution_count": null,
   "metadata": {},
   "outputs": [],
   "source": [
    "def get_cat_filepath(img_name):\n",
    "    # Returns the filepath of a given string\n",
    "    return './image_data/PetImages/cat/{}'.format(img_name)"
   ]
  },
  {
   "cell_type": "code",
   "execution_count": null,
   "metadata": {},
   "outputs": [],
   "source": [
    "def get_dog_train_filepath(img_name):\n",
    "    # Returns the filepath of a given string\n",
    "    return './image_data/PetImages/dogs_train/{}'.format(img_name)"
   ]
  },
  {
   "cell_type": "code",
   "execution_count": null,
   "metadata": {},
   "outputs": [],
   "source": [
    "def get_dog_test_filepath(img_name):\n",
    "    # Returns the filepath of a given string\n",
    "    return './image_data/PetImages/dogs_test/{}'.format(img_name)"
   ]
  },
  {
   "cell_type": "code",
   "execution_count": null,
   "metadata": {
    "scrolled": true
   },
   "outputs": [],
   "source": [
    "# First thing to check is to see how the images' pixels average values look\n",
    "def tonp(func, list_of_images, size=(500, 500)):\n",
    "    # for img in list_of_images:\n",
    "    path = func(list_of_images)\n",
    "    # Transforming all the images to size 400x400\n",
    "    current_img = image.load_img(path, target_size=size, color_mode='grayscale')\n",
    "    # makes a matrix\n",
    "    img_ts = image.img_to_array(current_img)\n",
    "    # converts to a vector\n",
    "    img_ts = [img_ts.ravel()]\n",
    "    current_img.close()\n",
    "    try:\n",
    "        # Brings all the new vectors into one giant array\n",
    "        full_mat = np.concatenate((full_mat, img_ts))\n",
    "    except UnboundLocalError:\n",
    "        full_mat = img_ts\n",
    "    return full_mat"
   ]
  },
  {
   "cell_type": "code",
   "execution_count": null,
   "metadata": {
    "scrolled": true
   },
   "outputs": [],
   "source": [
    "def get_mean_img(data):\n",
    "    \n",
    "    # Creates a multiprocessing pool to speed up iteration\n",
    "    a_pool = multiprocessing.Pool()\n",
    "    # returns a list of numpy array with the values of pixels for each image\n",
    "    result = a_pool.map(tonp, data)\n",
    "    # Returns the mean of each image in a (1, 90,000) vector\n",
    "    res = np.mean(result, axis=0)\n",
    "    # reshape the image back into a matrix\n",
    "    mean_img = np.array(res).reshape((500,500))\n",
    "    # Displays what the average image looks like\n",
    "    display_image(mean_img)\n",
    "    return mean_img"
   ]
  },
  {
   "cell_type": "markdown",
   "metadata": {},
   "source": [
    "# Transformations made to the data"
   ]
  },
  {
   "cell_type": "markdown",
   "metadata": {},
   "source": [
    "Grayscaling was done to the data "
   ]
  },
  {
   "cell_type": "code",
   "execution_count": null,
   "metadata": {},
   "outputs": [],
   "source": [
    "def turn_gray(np_matrix):\n",
    "    # Converts the np_matrix into a grayscale image\n",
    "    return color.rgb2gray(np_matrix)"
   ]
  },
  {
   "cell_type": "code",
   "execution_count": null,
   "metadata": {},
   "outputs": [],
   "source": [
    "def wrapper_to_grayscale(args):\n",
    "    return to_grayscale(*args)"
   ]
  },
  {
   "cell_type": "code",
   "execution_count": null,
   "metadata": {},
   "outputs": [],
   "source": [
    "def to_grayscale(func, data):\n",
    "    # takes an image string name and then converts it into an np vector\n",
    "    # Takes in the string name and a function argument\n",
    "    sample_cat = tonp(func, data) \n",
    "    # takes the sample cat and then reshapes it into a 500x500 matrix\n",
    "    grayscale_cat = turn_gray(sample_cat[0].reshape((500,500)))\n",
    "    # Displays the iamges using the display_image fucntion\n",
    "    display_image_np(grayscale_cat)\n",
    "    return grayscale_cat"
   ]
  },
  {
   "cell_type": "code",
   "execution_count": null,
   "metadata": {},
   "outputs": [],
   "source": [
    "def get_transformed_image(np_array):\n",
    "    im = np_array.reshape(500, 500).astype('uint')\n",
    "    hist = ndi.histogram(im, min=0, max=255, bins=256)\n",
    "    # Create a cumulative distribution function\n",
    "    cdf = hist.cumsum() / hist.sum()\n",
    "    im_equalized = cdf[im] * 255\n",
    "#     This will provide the graphs  \n",
    "#     tr = get_transformed_image(im_equalized)\n",
    "#     fig = plt.figure(figsize=(10, 10))\n",
    "#     ax1 = fig.add_subplot(221, xlabel='# Of pixels', ylabel='# Of pixels', title='Transformed Image')\n",
    "#     ax1.imshow(dogtest_transformed_images[1])\n",
    "#     ax2 = fig.add_subplot(222,  sharex=ax1, sharey=ax1, xlabel='# Of pixels', title='Original Image')\n",
    "#     ax2.imshow(tr)\n",
    "#     plt.show()\n",
    "    # Transforming the image by removing the noise and preserving the edges\n",
    "#     denoised_image = ndi.gaussian_filter(im_equalized, sigma=3)\n",
    "    denoised_image = denoise_bilateral(im_equalized, multichannel=False)\n",
    "    del im_equalized\n",
    "    gc.collect()\n",
    "    # Sobel is used here to be able to detect the edges of the image\n",
    "    sob = sobel(denoised_image)\n",
    "    return sob"
   ]
  },
  {
   "cell_type": "code",
   "execution_count": null,
   "metadata": {},
   "outputs": [],
   "source": [
    "cat_iterators = []\n",
    "for cat in cat_filenames:\n",
    "    cat_iterators.append((get_cat_filepath, cat))"
   ]
  },
  {
   "cell_type": "code",
   "execution_count": null,
   "metadata": {},
   "outputs": [],
   "source": [
    "dogtrain_iterators = []\n",
    "for dog in dogtrain_filenames:\n",
    "    dogtrain_iterators.append((get_dog_train_filepath, dog))\n",
    "dogtest_iterators = []\n",
    "for dog in dogtest_filenames:\n",
    "    dogtest_iterators.append((get_dog_test_filepath, dog))"
   ]
  },
  {
   "cell_type": "code",
   "execution_count": null,
   "metadata": {
    "scrolled": true
   },
   "outputs": [],
   "source": [
    "# multiprocessing to speed up the program\n",
    "a_mult = multiprocessing.Pool()\n",
    "# maps each iterated value onto the function to_grayscale\n",
    "cat_img = a_mult.map(wrapper_to_grayscale, cat_iterators[:100])\n",
    "dog_train = a_mult.map(wrapper_to_grayscale, dogtrain_iterators[:100])\n",
    "dog_test = a_mult.map(wrapper_to_grayscale, dogtest_iterators[:100])"
   ]
  },
  {
   "cell_type": "code",
   "execution_count": null,
   "metadata": {},
   "outputs": [],
   "source": [
    "gc.collect()\n",
    "cat_transformed_images = a_mult.map(get_transformed_image, cat_img)"
   ]
  },
  {
   "cell_type": "code",
   "execution_count": null,
   "metadata": {},
   "outputs": [],
   "source": [
    "del cat_img\n",
    "gc.collect()"
   ]
  },
  {
   "cell_type": "code",
   "execution_count": null,
   "metadata": {},
   "outputs": [],
   "source": [
    "gc.collect()\n",
    "dogtrain_transformed_images = a_mult.map(get_transformed_image, dog_train)"
   ]
  },
  {
   "cell_type": "code",
   "execution_count": null,
   "metadata": {},
   "outputs": [],
   "source": [
    "del dog_train\n",
    "gc.collect()"
   ]
  },
  {
   "cell_type": "code",
   "execution_count": null,
   "metadata": {},
   "outputs": [],
   "source": [
    "gc.collect()\n",
    "dogtest_transformed_images = a_mult.map(get_transformed_image, dog_test)"
   ]
  },
  {
   "cell_type": "code",
   "execution_count": null,
   "metadata": {},
   "outputs": [],
   "source": [
    "del dog_test\n",
    "gc.collect()"
   ]
  },
  {
   "cell_type": "code",
   "execution_count": null,
   "metadata": {
    "scrolled": true
   },
   "outputs": [],
   "source": [
    "img_num = 1\n",
    "fig = plt.figure(figsize=(10, 10))\n",
    "ax1 = fig.add_subplot(221, xlabel='# Of pixels', ylabel='# Of pixels', title='Transformed Image')\n",
    "ax1.imshow(dogtest_transformed_images[img_num])\n",
    "ax2 = fig.add_subplot(222,  sharex=ax1, sharey=ax1, xlabel='# Of pixels', title='Original Image')\n",
    "ax2.imshow(mpimg.imread(get_dog_test_filepath(dogtest_filenames[img_num])))\n",
    "plt.show()"
   ]
  },
  {
   "cell_type": "markdown",
   "metadata": {},
   "source": [
    "#### Exploratory Data Analysis"
   ]
  },
  {
   "cell_type": "code",
   "execution_count": null,
   "metadata": {},
   "outputs": [],
   "source": [
    "# The EDA can begin by checking the variance of the images\n",
    "cat_var_all = ndi.variance(cat_transformed_images[0])\n",
    "cat_var_all"
   ]
  },
  {
   "cell_type": "code",
   "execution_count": null,
   "metadata": {
    "scrolled": true
   },
   "outputs": [],
   "source": [
    "dogtrain_var_all = ndi.variance(dogtrain_transformed_images[0])\n",
    "dogtrain_var_all"
   ]
  },
  {
   "cell_type": "code",
   "execution_count": null,
   "metadata": {},
   "outputs": [],
   "source": [
    "dogtest_var_all = ndi.variance(dogtest_transformed_images[0])\n",
    "dogtest_var_all"
   ]
  },
  {
   "cell_type": "code",
   "execution_count": null,
   "metadata": {},
   "outputs": [],
   "source": [
    "# do stats on labels\n",
    "len_cat_images = len(cat_transformed_images)\n",
    "len_dog_images = len(dogtrain_transformed_images) + len(dogtest_transformed_images)"
   ]
  },
  {
   "cell_type": "code",
   "execution_count": null,
   "metadata": {
    "scrolled": true
   },
   "outputs": [],
   "source": [
    "sns.barplot(x=['Cat', 'Dog'], y=[len_cat_images, len_dog_images])\n",
    "plt.xlabel('Categories')\n",
    "plt.ylabel('Amount Of Images')\n",
    "plt.title('The number of image data per category')\n",
    "plt.show()"
   ]
  },
  {
   "cell_type": "markdown",
   "metadata": {},
   "source": [
    "PCA for the images"
   ]
  },
  {
   "cell_type": "code",
   "execution_count": null,
   "metadata": {},
   "outputs": [],
   "source": [
    "cat_vector = []\n",
    "for i in range(len(cat_transformed_images)):\n",
    "    cat_vector.append(cat_transformed_images[i].ravel())\n",
    "cat_vector"
   ]
  },
  {
   "cell_type": "code",
   "execution_count": null,
   "metadata": {
    "scrolled": true
   },
   "outputs": [],
   "source": [
    "dogtrain_transformed_images[0].ravel()"
   ]
  },
  {
   "cell_type": "code",
   "execution_count": null,
   "metadata": {},
   "outputs": [],
   "source": [
    "dogtrain_vector = []\n",
    "for i in range(len(dogtrain_transformed_images)):\n",
    "    dogtrain_vector.append(dogtrain_transformed_images[i].ravel())\n",
    "dogtrain_vector"
   ]
  },
  {
   "cell_type": "code",
   "execution_count": null,
   "metadata": {
    "scrolled": true
   },
   "outputs": [],
   "source": [
    "dogtest_vector = []\n",
    "for i in range(len(dogtest_transformed_images)):\n",
    "    dogtest_vector.append(dogtest_transformed_images[i].ravel())\n",
    "dogtest_vector"
   ]
  },
  {
   "cell_type": "code",
   "execution_count": null,
   "metadata": {},
   "outputs": [],
   "source": [
    "from sklearn.decomposition import PCA\n",
    "pca = PCA(n_components=2)\n",
    "pca.fit(cat_vector)\n",
    "cat_pca = pca.transform(cat_vector[:100])"
   ]
  },
  {
   "cell_type": "code",
   "execution_count": null,
   "metadata": {},
   "outputs": [],
   "source": [
    "X_cat_pca = list(map(lambda x: x[0], cat_pca))\n",
    "y_cat_pca = list(map(lambda x: x[1], cat_pca))"
   ]
  },
  {
   "cell_type": "code",
   "execution_count": null,
   "metadata": {},
   "outputs": [],
   "source": [
    "dogtrain_pca = pca.transform(dogtrain_vector[:100])"
   ]
  },
  {
   "cell_type": "code",
   "execution_count": null,
   "metadata": {},
   "outputs": [],
   "source": [
    "X_dogtrain_pca = list(map(lambda x: x[0], dogtrain_pca))\n",
    "y_dogtrain_pca = list(map(lambda x: x[1], dogtrain_pca))"
   ]
  },
  {
   "cell_type": "code",
   "execution_count": null,
   "metadata": {},
   "outputs": [],
   "source": [
    "dogtest_pca = pca.transform(dogtest_vector)"
   ]
  },
  {
   "cell_type": "code",
   "execution_count": null,
   "metadata": {},
   "outputs": [],
   "source": [
    "X_dogtest_pca = list(map(lambda x: x[0], dogtest_pca))\n",
    "y_dogtest_pca = list(map(lambda x: x[1], dogtest_pca))"
   ]
  },
  {
   "cell_type": "code",
   "execution_count": null,
   "metadata": {},
   "outputs": [],
   "source": [
    "cat_df = {'X': X_cat_pca, 'y': y_cat_pca, 'Category': ['Cat'] * 100}\n",
    "cat_df = pd.DataFrame(cat_df)\n",
    "dogtrain_df = {'X': X_dogtrain_pca, 'y': y_dogtrain_pca, 'Category': ['Dog'] * 100}\n",
    "dogtrain_df = pd.DataFrame(dogtrain_df)\n",
    "dogtest_df = {'X': X_dogtest_pca, 'y': y_dogtest_pca, 'Category': ['Dog'] * 100}\n",
    "dogtest_df = pd.DataFrame(dogtest_df)"
   ]
  },
  {
   "cell_type": "code",
   "execution_count": null,
   "metadata": {},
   "outputs": [],
   "source": [
    "final_df = cat_df.append([dogtrain_df, dogtest_df])\n",
    "final_df.tail()"
   ]
  },
  {
   "cell_type": "code",
   "execution_count": null,
   "metadata": {},
   "outputs": [],
   "source": [
    "plt.figure(figsize=(10, 10))\n",
    "sns.scatterplot(x='X', y='y', hue='Category', data=final_df)\n",
    "plt.xlabel('First Component')\n",
    "plt.ylabel('Second Component')\n",
    "plt.title('Sample Data of 100 Cats and Dogs Images')\n",
    "plt.plot()\n",
    "plt.show()"
   ]
  },
  {
   "cell_type": "markdown",
   "metadata": {},
   "source": [
    "The images appear to be cluttered together. Some overlaps and some values of dogs being spread across the map."
   ]
  }
 ],
 "metadata": {
  "kernelspec": {
   "display_name": "Python 3",
   "language": "python",
   "name": "python3"
  },
  "language_info": {
   "codemirror_mode": {
    "name": "ipython",
    "version": 3
   },
   "file_extension": ".py",
   "mimetype": "text/x-python",
   "name": "python",
   "nbconvert_exporter": "python",
   "pygments_lexer": "ipython3",
   "version": "3.7.4"
  }
 },
 "nbformat": 4,
 "nbformat_minor": 2
}
